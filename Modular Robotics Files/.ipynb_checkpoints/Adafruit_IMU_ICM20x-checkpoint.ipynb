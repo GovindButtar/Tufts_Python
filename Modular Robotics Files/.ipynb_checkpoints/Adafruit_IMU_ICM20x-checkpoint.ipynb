{
 "cells": [
  {
   "cell_type": "markdown",
   "metadata": {},
   "source": [
    "# ADAFRUIT ICM 20948 IMU Example Code"
   ]
  },
  {
   "cell_type": "markdown",
   "metadata": {},
   "source": [
    "This notebook showcases the use of the ICM-20X IMU from Adafruit.\n",
    "_Note: these links will not work if you are using the access point on the GoPiGo._\n",
    "\n",
    "Two versions are supported:\n",
    "* the [9dof ICM20948](https://www.adafruit.com/product/4554)\n",
    "* the [6dof ICM20649](https://www.adafruit.com/product/4464)\n",
    "\n",
    "The following examples will autodetect which one is connected to the GoPiGo."
   ]
  },
  {
   "cell_type": "markdown",
   "metadata": {},
   "source": [
    "## The following cell is the official example code. It will spit out plenty of lines!"
   ]
  },
  {
   "cell_type": "code",
   "execution_count": null,
   "metadata": {},
   "outputs": [],
   "source": [
    "# SPDX-FileCopyrightText: 2021 ladyada for Adafruit Industries\n",
    "# SPDX-License-Identifier: MIT\n",
    "\n",
    "import time\n",
    "import board\n",
    "import adafruit_icm20x\n",
    "\n",
    "i2c = board.I2C()  # uses board.SCL and board.SDA\n",
    "try:\n",
    "    icm = adafruit_icm20x.ICM20948(i2c)\n",
    "    magnetometer = True\n",
    "except ValueError:\n",
    "    icm = adafruit_icm20x.ICM20649(i2c)\n",
    "    magnetometer = False\n",
    "except:\n",
    "    icm = None\n",
    "    \n",
    "if icm is None:\n",
    "    print(\"no Adafruit IMU detected\")\n",
    "else:\n",
    "\n",
    "    for _ in range(50):\n",
    "        print(icm.acceleration)\n",
    "        print(\"Acceleration: X:%.2f, Y: %.2f, Z: %.2f m/s^2\" % (icm.acceleration))\n",
    "        print(\"Gyro X:%.2f, Y: %.2f, Z: %.2f rads/s\" % (icm.gyro))\n",
    "        if magnetometer:\n",
    "            print(\"Magnetometer X:%.2f, Y: %.2f, Z: %.2f uT\" % (icm.magnetic))\n",
    "        print(\"\")\n",
    "        time.sleep(0.5)"
   ]
  },
  {
   "cell_type": "markdown",
   "metadata": {},
   "source": [
    "## This next cell will give you a live plot of your readings. Pretty cool !"
   ]
  },
  {
   "cell_type": "code",
   "execution_count": null,
   "metadata": {},
   "outputs": [],
   "source": [
    "import time\n",
    "import board\n",
    "import adafruit_icm20x\n",
    "from jupyterplot import ProgressPlot\n",
    "import numpy as np\n",
    "\n",
    "\n",
    "i2c = board.I2C()  # uses board.SCL and board.SDA\n",
    "try:\n",
    "    icm = adafruit_icm20x.ICM20948(i2c)\n",
    "    magnetometer = True\n",
    "    pp = ProgressPlot(plot_names=[\"Acc\", \"Gyro\", \"Magnetic\"],\n",
    "                      line_names=[\"x\", \"y\", \"z\"])\n",
    "    \n",
    "except ValueError:\n",
    "    icm = adafruit_icm20x.ICM20649(i2c)\n",
    "    magnetometer = False\n",
    "    pp = ProgressPlot(plot_names=[\"Acc\", \"Gyro\"],\n",
    "                      line_names=[\"x\", \"y\", \"z\"])\n",
    "except:\n",
    "    icm = None\n",
    "    \n",
    "\n",
    "start = time.time()\n",
    "while time.time() - start < 20: # 20 seconds\n",
    "    if magnetometer:\n",
    "        pp.update([[icm.acceleration[0], icm.acceleration[1], icm.acceleration[2]],\n",
    "               [icm.gyro[0], icm.gyro[1], icm.gyro[2]],\n",
    "               [icm.magnetic[0], icm.magnetic[1], icm.magnetic[2]]\n",
    "              ])\n",
    "    else:\n",
    "        pp.update([[icm.acceleration[0], icm.acceleration[1], icm.acceleration[2]],\n",
    "               [icm.gyro[0], icm.gyro[1], icm.gyro[2]],\n",
    "              ])\n",
    "    \n",
    "pp.finalize()\n"
   ]
  },
  {
   "cell_type": "code",
   "execution_count": null,
   "metadata": {},
   "outputs": [],
   "source": [
    "!pip install adafruit-circuitpython-icm20x\n"
   ]
  },
  {
   "cell_type": "code",
   "execution_count": null,
   "metadata": {},
   "outputs": [],
   "source": [
    "!pip install jupyterplot\n"
   ]
  }
 ],
 "metadata": {
  "kernelspec": {
   "display_name": "Python 3",
   "language": "python",
   "name": "python3"
  },
  "language_info": {
   "codemirror_mode": {
    "name": "ipython",
    "version": 3
   },
   "file_extension": ".py",
   "mimetype": "text/x-python",
   "name": "python",
   "nbconvert_exporter": "python",
   "pygments_lexer": "ipython3",
   "version": "3.7.3"
  }
 },
 "nbformat": 4,
 "nbformat_minor": 4
}
